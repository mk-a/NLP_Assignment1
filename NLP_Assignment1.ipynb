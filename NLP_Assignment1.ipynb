{
 "cells": [
  {
   "cell_type": "markdown",
   "metadata": {},
   "source": [
    "##### Students :\n",
    "- Adrien Mainka 20130281\n",
    "- Abdelmoneim AlKhalil"
   ]
  },
  {
   "cell_type": "markdown",
   "metadata": {},
   "source": [
    "To be able to run this notebook, the data files needs to be unzipped and store in `./data/`"
   ]
  },
  {
   "cell_type": "markdown",
   "metadata": {},
   "source": [
    "## Vocabulary Size\n",
    "\n",
    "To measure the vocabulary size, we use a simple naive space tokenizer :<br> `tr ' ' '\\n'` or `str.split()`"
   ]
  },
  {
   "cell_type": "code",
   "execution_count": 1,
   "metadata": {},
   "outputs": [],
   "source": [
    "import time\n",
    "from collections import Counter\n",
    "from itertools import chain\n",
    "\n",
    "def countInFile(filename):\n",
    "    with open(filename) as f:\n",
    "        return Counter(chain.from_iterable(map(str.split, f)))\n",
    "counters = dict()"
   ]
  },
  {
   "cell_type": "markdown",
   "metadata": {},
   "source": [
    "### train.en"
   ]
  },
  {
   "cell_type": "code",
   "execution_count": 2,
   "metadata": {},
   "outputs": [
    {
     "name": "stdout",
     "output_type": "stream",
     "text": [
      "vocab size = 860,818\t elapsed time = 24.22 s\n"
     ]
    }
   ],
   "source": [
    "# !cat data/train.en | tr ' ' '\\n' | sort | uniq | wc -w\n",
    "# 859973\n",
    "start_time = time.time()\n",
    "counters[\"train_en\"] = countInFile(\"data/train.en\")\n",
    "print(\"vocab size = {:,}\\t elapsed time = {:.2f} s\".format(len(counters[\"train_en\"]), time.time() - start_time))"
   ]
  },
  {
   "cell_type": "markdown",
   "metadata": {},
   "source": [
    "### train.fr"
   ]
  },
  {
   "cell_type": "code",
   "execution_count": 16,
   "metadata": {},
   "outputs": [
    {
     "name": "stdout",
     "output_type": "stream",
     "text": [
      "vocab size = 3,310,267\t elapsed time = 338.46 s\n"
     ]
    }
   ],
   "source": [
    "# !cat data/train.fr | tr ' ' '\\n' | sort | uniq | wc -w\n",
    "# TOO SLOW\n",
    "\n",
    "start_time = time.time()\n",
    "counters[\"train_fr\"] = countInFile(\"data/train.fr\")\n",
    "print(\"vocab size = {:,}\\t elapsed time = {:.2f} s\".format(len(counters[\"train_fr\"]), time.time() - start_time))"
   ]
  },
  {
   "cell_type": "markdown",
   "metadata": {},
   "source": [
    "### train.de"
   ]
  },
  {
   "cell_type": "code",
   "execution_count": 3,
   "metadata": {},
   "outputs": [
    {
     "name": "stdout",
     "output_type": "stream",
     "text": [
      "vocab size = 1,713,522\t elapsed time = 31.78 s\n"
     ]
    }
   ],
   "source": [
    "# !cat data/train.de | tr ' ' '\\n' | sort | uniq | wc -w\n",
    "start_time = time.time()\n",
    "counters[\"train_de\"] = countInFile(\"data/train.de\")\n",
    "print(\"vocab size = {:,}\\t elapsed time = {:.2f} s\".format(len(counters[\"train_de\"]), time.time() - start_time))"
   ]
  },
  {
   "cell_type": "markdown",
   "metadata": {},
   "source": [
    "## Number of words seen at least 100 times\n",
    "### train.en"
   ]
  },
  {
   "cell_type": "code",
   "execution_count": 4,
   "metadata": {},
   "outputs": [
    {
     "name": "stdout",
     "output_type": "stream",
     "text": [
      "Number of words seenat least 100 times : 30,395\n"
     ]
    }
   ],
   "source": [
    "# !cat data/train.en | tr ' ' '\\n' | sort | uniq -c | sort -k1 -nr | awk '$1 > 99' | wc -l\n",
    "print(\"Number of words seenat least 100 times : {:,}\".format(len([token for token in counters[\"train_en\"] if counters[\"train_en\"][token] >= 100])))"
   ]
  },
  {
   "cell_type": "markdown",
   "metadata": {},
   "source": [
    "## train.fr"
   ]
  },
  {
   "cell_type": "code",
   "execution_count": 17,
   "metadata": {},
   "outputs": [
    {
     "name": "stdout",
     "output_type": "stream",
     "text": [
      "Number of words seenat least 100 times : 124,291\n"
     ]
    }
   ],
   "source": [
    "# !cat data/train.fr | tr ' ' '\\n' | sort | uniq -c | sort -k1 -nr | awk '$1 > 99' | wc -l\n",
    "print(\"Number of words seenat least 100 times : {:,}\".format(len([token for token in counters[\"train_fr\"] if counters[\"train_fr\"][token] >= 100])))"
   ]
  },
  {
   "cell_type": "markdown",
   "metadata": {},
   "source": [
    "### train.de"
   ]
  },
  {
   "cell_type": "code",
   "execution_count": 5,
   "metadata": {},
   "outputs": [
    {
     "name": "stdout",
     "output_type": "stream",
     "text": [
      "Number of words seenat least 100 times : 42,518\n"
     ]
    }
   ],
   "source": [
    "# !cat data/train.de | tr ' ' '\\n' | sort | uniq -c | sort -k1 -nr | awk '$1 > 99' | wc -l\n",
    "print(\"Number of words seenat least 100 times : {:,}\".format(len([token for token in counters[\"train_de\"] if counters[\"train_de\"][token] >= 100])))"
   ]
  },
  {
   "cell_type": "markdown",
   "metadata": {},
   "source": [
    "## Number of words seen in test but not in train\n",
    "### train.en"
   ]
  },
  {
   "cell_type": "code",
   "execution_count": 14,
   "metadata": {},
   "outputs": [
    {
     "name": "stdout",
     "output_type": "stream",
     "text": [
      "Number of words seen in test but not in train: 427\n"
     ]
    }
   ],
   "source": [
    "counters[\"test_en\"] = countInFile(\"data/test.en\")\n",
    "print(\"Number of words seen in test but not in train: {:,}\".format(len([word for word in counters[\"test_en\"] if not word in counters[\"train_en\"]])))"
   ]
  },
  {
   "cell_type": "markdown",
   "metadata": {},
   "source": [
    "### train.fr"
   ]
  },
  {
   "cell_type": "code",
   "execution_count": 18,
   "metadata": {},
   "outputs": [
    {
     "name": "stdout",
     "output_type": "stream",
     "text": [
      "Number of words seen in test but not in train: 132\n"
     ]
    }
   ],
   "source": [
    "counters[\"test_fr\"] = countInFile(\"data/test.fr\")\n",
    "print(\"Number of words seen in test but not in train: {:,}\".format(len([word for word in counters[\"test_fr\"] if not word in counters[\"train_fr\"]])))"
   ]
  },
  {
   "cell_type": "markdown",
   "metadata": {},
   "source": [
    "### train.de"
   ]
  },
  {
   "cell_type": "code",
   "execution_count": 15,
   "metadata": {},
   "outputs": [
    {
     "name": "stdout",
     "output_type": "stream",
     "text": [
      "Number of words seen in test but not in train: 1,035\n"
     ]
    }
   ],
   "source": [
    "counters[\"test_de\"] = countInFile(\"data/test.de\")\n",
    "print(\"Number of words seen in test but not in train: {:,}\".format(len([word for word in counters[\"test_de\"] if not word in counters[\"train_de\"]])))"
   ]
  },
  {
   "cell_type": "code",
   "execution_count": null,
   "metadata": {},
   "outputs": [],
   "source": []
  }
 ],
 "metadata": {
  "kernelspec": {
   "display_name": "Python 3",
   "language": "python",
   "name": "python3"
  },
  "language_info": {
   "codemirror_mode": {
    "name": "ipython",
    "version": 3
   },
   "file_extension": ".py",
   "mimetype": "text/x-python",
   "name": "python",
   "nbconvert_exporter": "python",
   "pygments_lexer": "ipython3",
   "version": "3.7.3"
  }
 },
 "nbformat": 4,
 "nbformat_minor": 2
}
