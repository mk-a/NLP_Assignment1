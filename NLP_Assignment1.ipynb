{
 "cells": [
  {
   "cell_type": "markdown",
   "metadata": {},
   "source": [
    "##### Students :\n",
    "- Adrien Mainka 20130281\n",
    "- Abdelmoneim AlKhalil"
   ]
  },
  {
   "cell_type": "markdown",
   "metadata": {},
   "source": [
    "To be able to run this notebook, the data files needs to be unzipped and store in `./data`"
   ]
  },
  {
   "cell_type": "markdown",
   "metadata": {},
   "source": [
    "## Vocabulary Size\n",
    "\n",
    "To measure the vocabulary size, we use a simple naive space tokenizer :<br> `tr ' ' '\\n'`"
   ]
  },
  {
   "cell_type": "code",
   "execution_count": 3,
   "metadata": {},
   "outputs": [],
   "source": [
    "import time\n",
    "from collections import Counter\n",
    "from itertools import chain\n",
    "\n",
    "def countInFile(filename):\n",
    "    with open(filename) as f:\n",
    "        return Counter(chain.from_iterable(map(str.split, f)))"
   ]
  },
  {
   "cell_type": "markdown",
   "metadata": {},
   "source": [
    "### train.en"
   ]
  },
  {
   "cell_type": "code",
   "execution_count": 4,
   "metadata": {},
   "outputs": [
    {
     "name": "stdout",
     "output_type": "stream",
     "text": [
      "vocab size = 860,818\t elapsed time = 24.27 s\n"
     ]
    }
   ],
   "source": [
    "# !cat data/train.en | tr ' ' '\\n' | sort | uniq | wc -w\n",
    "# 859973\n",
    "start_time = time.time()\n",
    "train_en = countInFile(\"data/train.en\")\n",
    "print(\"vocab size = {:,}\\t elapsed time = {:.2f} s\".format(len(train_en), time.time() - start_time))"
   ]
  },
  {
   "cell_type": "markdown",
   "metadata": {},
   "source": [
    "### train.fr"
   ]
  },
  {
   "cell_type": "code",
   "execution_count": 5,
   "metadata": {},
   "outputs": [
    {
     "name": "stdout",
     "output_type": "stream",
     "text": [
      "vocab size = 3,310,267\t elapsed time = 339.34 s\n"
     ]
    }
   ],
   "source": [
    "# !cat data/train.fr | tr ' ' '\\n' | sort | uniq | wc -w\n",
    "# TOO SLOW\n",
    "\n",
    "start_time = time.time()\n",
    "train_fr = countInFile(\"data/train.fr\")\n",
    "print(\"vocab size = {:,}\\t elapsed time = {:.2f} s\".format(len(train_fr), time.time() - start_time))"
   ]
  },
  {
   "cell_type": "markdown",
   "metadata": {},
   "source": [
    "### train.de"
   ]
  },
  {
   "cell_type": "code",
   "execution_count": 6,
   "metadata": {},
   "outputs": [
    {
     "name": "stdout",
     "output_type": "stream",
     "text": [
      "vocab size = 1,713,522\t elapsed time = 26.84 s\n"
     ]
    }
   ],
   "source": [
    "# !cat data/train.de | tr ' ' '\\n' | sort | uniq | wc -w\n",
    "start_time = time.time()\n",
    "train_de = countInFile(\"data/train.de\")\n",
    "print(\"vocab size = {:,}\\t elapsed time = {:.2f} s\".format(len(train_de), time.time() - start_time))"
   ]
  },
  {
   "cell_type": "markdown",
   "metadata": {},
   "source": [
    "## Number of words seen at least 100 times\n",
    "### train.en"
   ]
  },
  {
   "cell_type": "code",
   "execution_count": 8,
   "metadata": {},
   "outputs": [
    {
     "name": "stdout",
     "output_type": "stream",
     "text": [
      "Number of words seenat least 100 times : 30,395\n"
     ]
    }
   ],
   "source": [
    "# !cat data/train.en | tr ' ' '\\n' | sort | uniq -c | sort -k1 -nr | awk '$1 > 99' | wc -l\n",
    "print(\"Number of words seenat least 100 times : {:,}\".format(len([token for token in train_en if train_en[token] >= 100])))"
   ]
  },
  {
   "cell_type": "markdown",
   "metadata": {},
   "source": [
    "## train.fr"
   ]
  },
  {
   "cell_type": "code",
   "execution_count": 9,
   "metadata": {},
   "outputs": [
    {
     "name": "stdout",
     "output_type": "stream",
     "text": [
      "Number of words seenat least 100 times : 124,291\n"
     ]
    }
   ],
   "source": [
    "# !cat data/train.fr | tr ' ' '\\n' | sort | uniq -c | sort -k1 -nr | awk '$1 > 99' | wc -l\n",
    "print(\"Number of words seenat least 100 times : {:,}\".format(len([token for token in train_fr if train_fr[token] >= 100])))"
   ]
  },
  {
   "cell_type": "markdown",
   "metadata": {},
   "source": [
    "### train.de"
   ]
  },
  {
   "cell_type": "code",
   "execution_count": 10,
   "metadata": {},
   "outputs": [
    {
     "name": "stdout",
     "output_type": "stream",
     "text": [
      "Number of words seenat least 100 times : 42,518\n"
     ]
    }
   ],
   "source": [
    "# !cat data/train.de | tr ' ' '\\n' | sort | uniq -c | sort -k1 -nr | awk '$1 > 99' | wc -l\n",
    "print(\"Number of words seenat least 100 times : {:,}\".format(len([token for token in train_de if train_de[token] >= 100])))"
   ]
  },
  {
   "cell_type": "code",
   "execution_count": null,
   "metadata": {},
   "outputs": [],
   "source": []
  }
 ],
 "metadata": {
  "kernelspec": {
   "display_name": "Python 3",
   "language": "python",
   "name": "python3"
  },
  "language_info": {
   "codemirror_mode": {
    "name": "ipython",
    "version": 3
   },
   "file_extension": ".py",
   "mimetype": "text/x-python",
   "name": "python",
   "nbconvert_exporter": "python",
   "pygments_lexer": "ipython3",
   "version": "3.7.3"
  }
 },
 "nbformat": 4,
 "nbformat_minor": 2
}
