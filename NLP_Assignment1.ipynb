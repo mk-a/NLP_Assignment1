{
 "cells": [
  {
   "cell_type": "markdown",
   "metadata": {},
   "source": [
    "##### Students :\n",
    "- Adrien Mainka 20130281\n",
    "- Abdelmoneim AlKhalil"
   ]
  },
  {
   "cell_type": "markdown",
   "metadata": {},
   "source": [
    "To be able to run this notebook, the data files needs to be unzipped and store in `./data/`"
   ]
  },
  {
   "cell_type": "markdown",
   "metadata": {},
   "source": [
    "## Vocabulary Size\n",
    "\n",
    "To measure the vocabulary size, we use a simple naive space tokenizer :<br> \n",
    "`tr ' ' '\\n'` or `str.split()` <br>\n",
    "And we removed all the capital letters."
   ]
  },
  {
   "cell_type": "code",
   "execution_count": 1,
   "metadata": {},
   "outputs": [],
   "source": [
    "import time\n",
    "import kenlm\n",
    "from collections import Counter\n",
    "import matplotlib.pyplot as plt\n",
    "import numpy as np\n",
    "\n",
    "def countInFile(filename):\n",
    "    counter = Counter()\n",
    "    f = open(filename)\n",
    "    line = f.readline()\n",
    "    while line:\n",
    "        for token in line.lower().split():\n",
    "            counter[token] += 1\n",
    "        line = f.readline()\n",
    "    f.close()\n",
    "    return counter"
   ]
  },
  {
   "cell_type": "markdown",
   "metadata": {},
   "source": [
    "### train.en"
   ]
  },
  {
   "cell_type": "code",
   "execution_count": 2,
   "metadata": {},
   "outputs": [],
   "source": [
    "counters = dict()"
   ]
  },
  {
   "cell_type": "code",
   "execution_count": 3,
   "metadata": {},
   "outputs": [
    {
     "name": "stdout",
     "output_type": "stream",
     "text": [
      "vocab size = 732,761\t elapsed time = 40.78 s\n"
     ]
    }
   ],
   "source": [
    "# !cat data/train.en | tr ' ' '\\n' | sort | uniq | wc -w\n",
    "# 859973\n",
    "start_time = time.time()\n",
    "dataset_name = \"train.en\"\n",
    "directory = \"./data/\"\n",
    "counters[dataset_name] = countInFile(directory + dataset_name)\n",
    "print(\"vocab size = {:,}\\t elapsed time = {:.2f} s\".format(len(counters[dataset_name]), time.time() - start_time))"
   ]
  },
  {
   "cell_type": "markdown",
   "metadata": {},
   "source": [
    "### train.fr"
   ]
  },
  {
   "cell_type": "code",
   "execution_count": 4,
   "metadata": {},
   "outputs": [
    {
     "name": "stdout",
     "output_type": "stream",
     "text": [
      "vocab size = 2,879,802\t elapsed time = 547.03 s\n"
     ]
    }
   ],
   "source": [
    "# !cat data/train.fr | tr ' ' '\\n' | sort | uniq | wc -w\n",
    "# TOO SLOW\n",
    "start_time = time.time()\n",
    "dataset_name = \"train.fr\"\n",
    "directory = \"./data/\"\n",
    "counters[dataset_name] = countInFile(directory + dataset_name)\n",
    "print(\"vocab size = {:,}\\t elapsed time = {:.2f} s\".format(len(counters[dataset_name]), time.time() - start_time))"
   ]
  },
  {
   "cell_type": "markdown",
   "metadata": {},
   "source": [
    "### train.de"
   ]
  },
  {
   "cell_type": "code",
   "execution_count": 5,
   "metadata": {},
   "outputs": [
    {
     "name": "stdout",
     "output_type": "stream",
     "text": [
      "vocab size = 1,562,794\t elapsed time = 44.28 s\n"
     ]
    }
   ],
   "source": [
    "# !cat data/train.de | tr ' ' '\\n' | sort | uniq | wc -w\n",
    "start_time = time.time()\n",
    "dataset_name = \"train.de\"\n",
    "directory = \"./data/\"\n",
    "counters[dataset_name] = countInFile(directory + dataset_name)\n",
    "print(\"vocab size = {:,}\\t elapsed time = {:.2f} s\".format(len(counters[dataset_name]), time.time() - start_time))"
   ]
  },
  {
   "cell_type": "markdown",
   "metadata": {},
   "source": [
    "## Number of words seen at least 100 times\n",
    "### train.en"
   ]
  },
  {
   "cell_type": "code",
   "execution_count": 9,
   "metadata": {},
   "outputs": [
    {
     "name": "stdout",
     "output_type": "stream",
     "text": [
      "Number of words seenat least 100 times : 26,794\n"
     ]
    }
   ],
   "source": [
    "# !cat data/train.en | tr ' ' '\\n' | sort | uniq -c | sort -k1 -nr | awk '$1 > 99' | wc -l\n",
    "dataset_name = \"train.en\"\n",
    "print(\"Number of words seenat least 100 times : {:,}\".format(len([token for token in counters[dataset_name] if counters[dataset_name][token] >= 100])))"
   ]
  },
  {
   "cell_type": "markdown",
   "metadata": {},
   "source": [
    "## train.fr"
   ]
  },
  {
   "cell_type": "code",
   "execution_count": 10,
   "metadata": {},
   "outputs": [
    {
     "name": "stdout",
     "output_type": "stream",
     "text": [
      "Number of words seenat least 100 times : 40,318\n"
     ]
    }
   ],
   "source": [
    "# !cat data/train.fr | tr ' ' '\\n' | sort | uniq -c | sort -k1 -nr | awk '$1 > 99' | wc -l\n",
    "dataset_name = \"train.de\"\n",
    "print(\"Number of words seenat least 100 times : {:,}\".format(len([token for token in counters[dataset_name] if counters[dataset_name][token] >= 100])))"
   ]
  },
  {
   "cell_type": "markdown",
   "metadata": {},
   "source": [
    "### train.de"
   ]
  },
  {
   "cell_type": "code",
   "execution_count": 12,
   "metadata": {},
   "outputs": [
    {
     "name": "stdout",
     "output_type": "stream",
     "text": [
      "Number of words seenat least 100 times : 40,318\n"
     ]
    }
   ],
   "source": [
    "# !cat data/train.de | tr ' ' '\\n' | sort | uniq -c | sort -k1 -nr | awk '$1 > 99' | wc -l\n",
    "print(\"Number of words seenat least 100 times : {:,}\".format(len([token for token in counters[dataset_name] if counters[dataset_name][token] >= 100])))"
   ]
  },
  {
   "cell_type": "markdown",
   "metadata": {},
   "source": [
    "## Number of words seen in test but not in train\n",
    "### train.en"
   ]
  },
  {
   "cell_type": "code",
   "execution_count": 16,
   "metadata": {},
   "outputs": [
    {
     "name": "stdout",
     "output_type": "stream",
     "text": [
      "Number of words seen in test but not in train: 389\n"
     ]
    }
   ],
   "source": [
    "dataset_name = \"test.en\"\n",
    "directory = \"./data/\"\n",
    "counters[dataset_name] = countInFile(directory + dataset_name)\n",
    "print(\"Number of words seen in test but not in train: {:,}\".format(len([word for word in counters[dataset_name] if not word in counters[\"train.en\"]])))"
   ]
  },
  {
   "cell_type": "markdown",
   "metadata": {},
   "source": [
    "### train.fr"
   ]
  },
  {
   "cell_type": "code",
   "execution_count": 17,
   "metadata": {},
   "outputs": [
    {
     "name": "stdout",
     "output_type": "stream",
     "text": [
      "Number of words seen in test but not in train: 122\n"
     ]
    }
   ],
   "source": [
    "dataset_name = \"test.fr\"\n",
    "directory = \"./data/\"\n",
    "counters[dataset_name] = countInFile(directory + dataset_name)\n",
    "print(\"Number of words seen in test but not in train: {:,}\".format(len([word for word in counters[dataset_name] if not word in counters[\"train.fr\"]])))"
   ]
  },
  {
   "cell_type": "markdown",
   "metadata": {},
   "source": [
    "### train.de"
   ]
  },
  {
   "cell_type": "code",
   "execution_count": 18,
   "metadata": {},
   "outputs": [
    {
     "name": "stdout",
     "output_type": "stream",
     "text": [
      "Number of words seen in test but not in train: 2,824\n"
     ]
    }
   ],
   "source": [
    "counters[\"test_de\"] = countInFile(\"data/test.de\")\n",
    "print(\"Number of words seen in test but not in train: {:,}\".format(len([word for word in counters[dataset_name] if not word in counters[\"train.de\"]])))"
   ]
  },
  {
   "cell_type": "markdown",
   "metadata": {},
   "source": [
    "## Number of words per number of occurence"
   ]
  },
  {
   "cell_type": "code",
   "execution_count": 19,
   "metadata": {},
   "outputs": [
    {
     "name": "stdout",
     "output_type": "stream",
     "text": [
      "There are 390671 hapax legomena in train.en\n"
     ]
    },
    {
     "data": {
      "image/png": "[encoded data removed]",
      "text/plain": [
       "<Figure size 432x288 with 1 Axes>"
      ]
     },
     "metadata": {
      "needs_background": "light"
     },
     "output_type": "display_data"
    }
   ],
   "source": [
    "occurs_max = 1000\n",
    "dataset_name = \"train.en\"\n",
    "y = np.zeros(occurs_max)\n",
    "for word in counters[dataset_name]:\n",
    "    if counters[dataset_name][word]<occurs_max:\n",
    "        y[counters[dataset_name][word]-1] += 1\n",
    "plt.plot(np.arange(1,occurs_max+1), y)\n",
    "plt.yscale(\"log\")\n",
    "plt.xlabel(\"Number of occurence (up to {})\".format(occurs_max))\n",
    "plt.ylabel(\"Number of words\")\n",
    "plt.title(\"Number of word per occurence in {}\".format(dataset_name))\n",
    "print(\"There are {} hapax legomena in {}\".format(int(y[0]), dataset_name))"
   ]
  },
  {
   "cell_type": "code",
   "execution_count": 20,
   "metadata": {},
   "outputs": [
    {
     "name": "stdout",
     "output_type": "stream",
     "text": [
      "There are 1464203 hapax legomena in train.fr\n"
     ]
    },
    {
     "data": {
      "image/png": "[encoded data removed]",
      "text/plain": [
       "<Figure size 432x288 with 1 Axes>"
      ]
     },
     "metadata": {
      "needs_background": "light"
     },
     "output_type": "display_data"
    }
   ],
   "source": [
    "occurs_max = 1000\n",
    "dataset_name = \"train.fr\"\n",
    "y = np.zeros(occurs_max)\n",
    "for word in counters[dataset_name]:\n",
    "    if counters[dataset_name][word]<occurs_max:\n",
    "        y[counters[dataset_name][word]-1] += 1\n",
    "plt.plot(np.arange(1,occurs_max+1), y)\n",
    "plt.yscale(\"log\")\n",
    "plt.xlabel(\"Number of occurence (up to {})\".format(occurs_max))\n",
    "plt.ylabel(\"Number of words\")\n",
    "plt.title(\"Number of word per occurence in {}\".format(dataset_name))\n",
    "print(\"There are {} hapax legomena in {}\".format(int(y[0]), dataset_name))"
   ]
  },
  {
   "cell_type": "code",
   "execution_count": 21,
   "metadata": {},
   "outputs": [
    {
     "name": "stdout",
     "output_type": "stream",
     "text": [
      "There are 864889 hapax legomena in train.de\n"
     ]
    },
    {
     "data": {
      "image/png": "[encoded data removed]",
      "text/plain": [
       "<Figure size 432x288 with 1 Axes>"
      ]
     },
     "metadata": {
      "needs_background": "light"
     },
     "output_type": "display_data"
    }
   ],
   "source": [
    "occurs_max = 1000\n",
    "dataset_name = \"train.de\"\n",
    "y = np.zeros(occurs_max)\n",
    "for word in counters[dataset_name]:\n",
    "    if counters[dataset_name][word]<occurs_max:\n",
    "        y[counters[dataset_name][word]-1] += 1\n",
    "plt.plot(np.arange(1,occurs_max+1), y)\n",
    "plt.yscale(\"log\")\n",
    "plt.xlabel(\"Number of occurence (up to {})\".format(occurs_max))\n",
    "plt.ylabel(\"Number of words\")\n",
    "plt.title(\"Number of word per occurence in {}\".format(dataset_name))\n",
    "print(\"There are {} hapax legomena in {}\".format(int(y[0]), dataset_name))"
   ]
  },
  {
   "cell_type": "markdown",
   "metadata": {},
   "source": [
    "{{occurs_max}}"
   ]
  },
  {
   "cell_type": "markdown",
   "metadata": {},
   "source": [
    "## Create a language model"
   ]
  },
  {
   "cell_type": "markdown",
   "metadata": {},
   "source": [
    "We have trained five different models with orders from 2 to 5 using a preprocessing function that only removes uppercase characters."
   ]
  },
  {
   "cell_type": "code",
   "execution_count": 3,
   "metadata": {},
   "outputs": [],
   "source": [
    "def evaluate_model(model, filename):\n",
    "    \"\"\" Return the mean perplexity of model on test dataset given its filename\n",
    "    \"\"\"\n",
    "    f = open(filename)\n",
    "    line = f.readline()\n",
    "    ppl = []\n",
    "    while line:\n",
    "        ppl.append(model.perplexity(line.lower()))\n",
    "        line = f.readline()\n",
    "    f.close()\n",
    "    return np.mean(ppl)\n",
    "\n",
    "def evaluate_models(models, filename):\n",
    "    \"\"\" Return the mean perplexity a list of models on test dataset given its filename\n",
    "    \"\"\"\n",
    "    ppl = [ [] for _ in models]\n",
    "    f = open(filename)\n",
    "    line = f.readline()\n",
    "    while line:\n",
    "        for i, model in enumerate(models):\n",
    "            ppl[i].append(model.perplexity(line.lower()))\n",
    "        line = f.readline()\n",
    "    f.close()\n",
    "    return np.mean(ppl,1)"
   ]
  },
  {
   "cell_type": "code",
   "execution_count": 42,
   "metadata": {},
   "outputs": [],
   "source": [
    "models = [ kenlm.Model(\"./arpa/train.en.n{}.arpa\".format(i)) for i in range(2,6) ]"
   ]
  },
  {
   "cell_type": "code",
   "execution_count": 41,
   "metadata": {},
   "outputs": [
    {
     "data": {
      "text/plain": [
       "<Model from b'train.en.n2.arpa'>"
      ]
     },
     "execution_count": 41,
     "metadata": {},
     "output_type": "execute_result"
    }
   ],
   "source": [
    "kenlm.Model(\"./arpa/train.en.n2.arpa\")"
   ]
  },
  {
   "cell_type": "code",
   "execution_count": 32,
   "metadata": {},
   "outputs": [
    {
     "data": {
      "text/plain": [
       "173.9097266687331"
      ]
     },
     "execution_count": 32,
     "metadata": {},
     "output_type": "execute_result"
    }
   ],
   "source": [
    "evaluate_model(model, \"data/test.en\")"
   ]
  },
  {
   "cell_type": "code",
   "execution_count": 34,
   "metadata": {},
   "outputs": [],
   "source": [
    "a = np.mean(np.arange(100).reshape(10,10),1)"
   ]
  },
  {
   "cell_type": "code",
   "execution_count": 47,
   "metadata": {},
   "outputs": [
    {
     "data": {
      "text/plain": [
       "<matplotlib.legend.Legend at 0x7f92550501d0>"
      ]
     },
     "execution_count": 47,
     "metadata": {},
     "output_type": "execute_result"
    },
    {
     "data": {
      "image/png": "[encoded data removed]",
      "text/plain": [
       "<Figure size 432x288 with 1 Axes>"
      ]
     },
     "metadata": {
      "needs_background": "light"
     },
     "output_type": "display_data"
    }
   ],
   "source": [
    "plt.plot(np.arange(2,6), evaluate_models(models, \"./data/test.en\"), label=\"test\")\n",
    "plt.plot(np.arange(2,6), evaluate_models(models, \"./data/train.en\"), label=\"train\")\n",
    "plt.legend()"
   ]
  },
  {
   "cell_type": "markdown",
   "metadata": {},
   "source": [
    "In order to improve the model quality, we will enhance the preprocessing by replacing all the words seen less 10 times with the token `UNK`"
   ]
  },
  {
   "cell_type": "code",
   "execution_count": 62,
   "metadata": {},
   "outputs": [],
   "source": [
    "def preprocess(filename, destination, threshold, counter=None, replacement=\"UNK\"):\n",
    "    \"\"\" This function preprocesses a dataset as a file by replacing all the words seen less than threshold times by replacement.\n",
    "        If no counter is provided, the function will count the words itself.\n",
    "    \"\"\"\n",
    "    if not counter:\n",
    "        counter = countInFile(filename)\n",
    "    f1 = open(filename, \"r\")\n",
    "    f2 = open(destination, \"w\")\n",
    "    line = f1.readline()\n",
    "    while line:\n",
    "        f2.write(' '.join([ word if counter[word] > threshold else replacement for word in line.lower().split() ]) + '\\n')\n",
    "        line = f1.readline()\n",
    "    f1.close()\n",
    "    f2.close()"
   ]
  },
  {
   "cell_type": "code",
   "execution_count": 63,
   "metadata": {},
   "outputs": [],
   "source": [
    "preprocess(\"data/train.en\", \"preprocessed/train.en\", 10, counters[\"train.en\"])"
   ]
  },
  {
   "cell_type": "code",
   "execution_count": 2,
   "metadata": {},
   "outputs": [],
   "source": [
    "models2 = [ kenlm.Model(\"./arpa/train2.en.n{}.arpa\".format(i)) for i in range(2,6) ]"
   ]
  },
  {
   "cell_type": "code",
   "execution_count": 5,
   "metadata": {},
   "outputs": [
    {
     "data": {
      "text/plain": [
       "Text(0.5, 1.0, 'Perplexity ')"
      ]
     },
     "execution_count": 5,
     "metadata": {},
     "output_type": "execute_result"
    },
    {
     "data": {
      "image/png": "[encoded data removed]",
      "text/plain": [
       "<Figure size 432x288 with 1 Axes>"
      ]
     },
     "metadata": {
      "needs_background": "light"
     },
     "output_type": "display_data"
    }
   ],
   "source": [
    "plt.plot(np.arange(2,6), evaluate_models(models2, \"./data/test.en\"), label=\"test\")\n",
    "plt.plot(np.arange(2,6), evaluate_models(models2, \"./preprocessed/train.en\"), label=\"train\")\n",
    "plt.legend()\n",
    "plt.title(\"Perplexity \")"
   ]
  },
  {
   "cell_type": "code",
   "execution_count": null,
   "metadata": {},
   "outputs": [],
   "source": []
  }
 ],
 "metadata": {
  "kernelspec": {
   "display_name": "Python 3",
   "language": "python",
   "name": "python3"
  },
  "language_info": {
   "codemirror_mode": {
    "name": "ipython",
    "version": 3
   },
   "file_extension": ".py",
   "mimetype": "text/x-python",
   "name": "python",
   "nbconvert_exporter": "python",
   "pygments_lexer": "ipython3",
   "version": "3.7.3"
  }
 },
 "nbformat": 4,
 "nbformat_minor": 2
}
